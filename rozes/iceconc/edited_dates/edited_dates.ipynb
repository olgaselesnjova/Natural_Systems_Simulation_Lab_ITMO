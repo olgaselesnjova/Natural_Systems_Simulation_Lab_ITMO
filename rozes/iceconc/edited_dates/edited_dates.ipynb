{
 "cells": [
  {
   "cell_type": "code",
   "execution_count": 2,
   "metadata": {},
   "outputs": [],
   "source": [
    "import os\n",
    "import pandas as pd\n",
    "import numpy as np\n",
    "import datetime"
   ]
  },
  {
   "cell_type": "code",
   "execution_count": 5,
   "metadata": {},
   "outputs": [],
   "source": [
    "directory = \"D:/ИТМО/Python/rozes/iceconc\"\n",
    "\n",
    "for filename in os.listdir(directory):\n",
    "    if 'csv' in filename:\n",
    "        path = f'{directory}/{filename}'\n",
    "        data = pd.read_csv(path, sep = ',', decimal = ',', index_col = 0)\n",
    "        df = pd.DataFrame(data)\n",
    "        name = path.split('/')[-1][:-4]\n",
    "        s = pd.to_datetime(df.time)\n",
    "        df.time = s - datetime.timedelta(minutes=30)\n",
    "        df.time = pd.to_datetime(df.time)  \n",
    "        df.to_csv(f'D:/ИТМО/Python/rozes/iceconc/edited_dates/{name}.csv')"
   ]
  }
 ],
 "metadata": {
  "kernelspec": {
   "display_name": "Python 3",
   "language": "python",
   "name": "python3"
  },
  "language_info": {
   "codemirror_mode": {
    "name": "ipython",
    "version": 3
   },
   "file_extension": ".py",
   "mimetype": "text/x-python",
   "name": "python",
   "nbconvert_exporter": "python",
   "pygments_lexer": "ipython3",
   "version": "3.11.1"
  },
  "orig_nbformat": 4,
  "vscode": {
   "interpreter": {
    "hash": "6491bbd3c7861498ceca5f810ff495ca48eaaad8857aa8ae48a42dff31e5d8e0"
   }
  }
 },
 "nbformat": 4,
 "nbformat_minor": 2
}
