{
 "cells": [
  {
   "cell_type": "code",
   "execution_count": 1,
   "metadata": {},
   "outputs": [],
   "source": [
    "import os\n",
    "import pandas as pd\n",
    "import numpy as np\n",
    "from math import pi\n",
    "\n",
    "from math import sqrt\n",
    "from math import atan2\n",
    "from math import pi"
   ]
  },
  {
   "cell_type": "code",
   "execution_count": 2,
   "metadata": {},
   "outputs": [],
   "source": [
    "def columns(df, d, for_merge, v_col, u_col):\n",
    "    windDir_list  = []\n",
    "    windSpd_list = []\n",
    "    windDir_degrees_list = []\n",
    "\n",
    "    for col in df: \n",
    "        v = col[v_col]\n",
    "        u = col[u_col]\n",
    "        windDir1 = (270-atan2(v,u)*180/pi)%360      \n",
    "        windDir_list.append(windDir1)\n",
    "        windSpd1 = sqrt(u**2+v**2) \n",
    "        windSpd_list.append(windSpd1)\n",
    "    windDir = np.array(windDir_list)\n",
    "    windSpd = np.array(windSpd_list)\n",
    "\n",
    "    def degToCompass(num):\n",
    "            val=int((num/22.5)+.5)\n",
    "            arr=[\"N\",\"NNE\",\"NE\",\"ENE\",\"E\",\"ESE\", \"SE\", \"SSE\",\"S\",\"SSW\",\"SW\",\"WSW\",\"W\",\"WNW\",\"NW\",\"NNW\"]\n",
    "            dir = arr[(val % 16)]\n",
    "            windDir_degrees_list.append(dir)\n",
    "\n",
    "    for num in windDir:\n",
    "        degToCompass(num)\n",
    "\n",
    "    windDir_degrees = np.array(windDir_degrees_list)\n",
    "\n",
    "    final = pd.DataFrame({f'M_Spd_{d}m': windSpd, f'M_Direction_{d}m': windDir_degrees, f'M_Dir_{d}m': windDir})\n",
    "    for_merge[f'{d}'] = final "
   ]
  },
  {
   "cell_type": "code",
   "execution_count": 3,
   "metadata": {},
   "outputs": [],
   "source": [
    "directory = \"D:/ИТМО/Python/rozes/model\"       \n",
    "for filename in os.listdir(directory):\n",
    "    if 'csv' in filename:        \n",
    "        for_merge = {}\n",
    "        path = f'{directory}/{filename}'\n",
    "        data = pd.read_csv(path, sep = ';', decimal = ',', index_col = 0)\n",
    "        df = pd.DataFrame(data)\n",
    "        df.columns = df.columns.str[:11]\n",
    "        df = df.iloc[:,1:]\n",
    "        name = path.split('/')[-1][:-4]\n",
    "        \n",
    "        df = df.to_numpy()\n",
    "        if df.shape[1] < 8:  # если кол-во колонок в numpy array \n",
    "            columns(df, 3, for_merge, 0, 3)\n",
    "            columns(df, 12, for_merge, 1, 4)\n",
    "            columns(df, 25, for_merge, 2, 5)\n",
    "        else:\n",
    "            columns(df, 3, for_merge, 0, 4)\n",
    "            columns(df, 12, for_merge, 1, 5)\n",
    "            columns(df, 25, for_merge, 2, 6)\n",
    "            columns(df, 47, for_merge, 3, 7)\n",
    "\n",
    "        full = pd.concat(for_merge.values(), axis=1)\n",
    "        full.to_csv(f\"D:/ИТМО/Python/rozes/model/prepared_model/prep_{name}.csv\", sep = ';', decimal = ',')"
   ]
  }
 ],
 "metadata": {
  "kernelspec": {
   "display_name": "Python 3",
   "language": "python",
   "name": "python3"
  },
  "language_info": {
   "codemirror_mode": {
    "name": "ipython",
    "version": 3
   },
   "file_extension": ".py",
   "mimetype": "text/x-python",
   "name": "python",
   "nbconvert_exporter": "python",
   "pygments_lexer": "ipython3",
   "version": "3.11.1"
  },
  "orig_nbformat": 4
 },
 "nbformat": 4,
 "nbformat_minor": 2
}
