{
 "cells": [
  {
   "cell_type": "code",
   "execution_count": 2,
   "metadata": {},
   "outputs": [],
   "source": [
    "import os\n",
    "import pandas as pd\n",
    "from matplotlib import pyplot as plt\n",
    "from matplotlib.backends.backend_pdf import PdfPages\n",
    "from datetime import datetime\n",
    "import numpy as np"
   ]
  },
  {
   "cell_type": "code",
   "execution_count": 20,
   "metadata": {},
   "outputs": [],
   "source": [
    "directory = \"D:/ИТМО/Python/vosaline_votemper/data\"  \n",
    "\n",
    "def to_correct_time(df):\n",
    "    tot_rows = df.shape[0]\n",
    "    for date_cell in range(1,tot_rows): \n",
    "        date_str = df.iloc[date_cell,1]\n",
    "        date_format = '%d.%m.%Y %H:%M'\n",
    "        date_obj = datetime.strptime(date_str, date_format)\n",
    "        df.iloc[date_cell,1] = date_obj\n",
    "\n",
    "def plots(x, y, param, name, model, multiple):\n",
    "    if multiple == True:\n",
    "        plt.plot(x, y, color = np.random.rand(3,), label=name, marker = 'o')             \n",
    "        plt.xlabel((f'{param}_(NEMO)'), fontsize=12)   \n",
    "        plt.ylabel(\"Depth\", fontsize=12)                                        \n",
    "        plt.title(f'{model}', fontsize=14)  \n",
    "        plt.grid()\n",
    "        plt.legend() \n",
    "        if param == 'vosaline':\n",
    "            plt.savefig(f\"D:/ИТМО/Python/vosaline_votemper/graphs/vosaline/{model}_{param}1111.png\")\n",
    "        else:\n",
    "            plt.savefig(f\"D:/ИТМО/Python/vosaline_votemper/graphs/votemper/{model}_{param}.png\")\n",
    "        #plt.show()\n",
    "        #plt.close()\n",
    "    else:\n",
    "        plt.plot(x, y, color = np.random.rand(3,), marker = 'o')             \n",
    "        plt.xlabel((f'{param}_(NEMO)'), fontsize=12)   \n",
    "        plt.ylabel(\"Depth\", fontsize=12)                                        \n",
    "        plt.title(f'{name}', fontsize=14)    \n",
    "        plt.grid()\n",
    "        if param == 'vosaline':\n",
    "            plt.savefig(f\"D:/ИТМО/Python/vosaline_votemper/graphs/vosaline/{name}_{param}.png\") \n",
    "        else: \n",
    "            plt.savefig(f\"D:/ИТМО/Python/vosaline_votemper/graphs/votemper/{name}_{param}.png\")\n",
    "        #plt.show()\n",
    "        #plt.close()"
   ]
  },
  {
   "attachments": {},
   "cell_type": "markdown",
   "metadata": {},
   "source": [
    "### Графики по каждой ПАБС, сгруппированные по пространству"
   ]
  },
  {
   "cell_type": "code",
   "execution_count": 23,
   "metadata": {},
   "outputs": [
    {
     "data": {
      "text/plain": [
       "\"plotting(param, 'mod02', True)\\nplotting(param, 'mod05', True)\\nplotting(param, 'mod06_1', False)\\nplotting(param, 'mod10__', True)\\nplotting(param, 'mod10_1', False)\\nplotting(param, 'mod11', False)\\nplotting(param, 'mod12', True)\\nplotting(param, 'mod13', False)\\nplotting(param, 'mod17', True)\\nplotting(param, 'mod18', True)\""
      ]
     },
     "execution_count": 23,
     "metadata": {},
     "output_type": "execute_result"
    }
   ],
   "source": [
    "def plotting(param, model, multiple): \n",
    "    for filename in os.listdir(directory):\n",
    "        if 'csv' in filename:\n",
    "            if model in filename:\n",
    "                path = f'{directory}/{filename}'\n",
    "                data = pd.read_csv(path, sep=';', decimal='.', encoding='latin-1')\n",
    "                df = pd.DataFrame(data)\n",
    "                name = path.split('/')[-1][:-4]\n",
    "                \n",
    "                to_correct_time(df)\n",
    "\n",
    "                # Mean for winter \n",
    "                df['time'] = pd.to_datetime(df['time'], errors='coerce')\n",
    "                only_winter = df.loc[(df['time'].dt.month.isin([1,2,12]))] #%Y-%m-%d %H:%M:%S\n",
    "                avg_winter = only_winter.mean(axis=0)\n",
    "\n",
    "                # DataFrame for winter values \n",
    "                new = pd.DataFrame(avg_winter)\n",
    "                new['Index'] = new.index\n",
    "                new.reset_index(drop=True, inplace=True)\n",
    "                new.rename(columns={0: 'AvgWinter'}, inplace = True)\n",
    "                new[\"Param\"] = new['Index'].str.split('-').str[0]\n",
    "                new[\"Depth\"] = new['Index'].str.split('-').str[1].astype(float).round(2)\n",
    "                new_cols = [\"Index\",\"Param\",\"Depth\",\"AvgWinter\"]\n",
    "                new = new[new_cols]\n",
    "\n",
    "                # Plot for params \n",
    "                x = new['AvgWinter'].loc[new['Param'] == param]\n",
    "                y = new['Depth'].loc[new['Param'] == param] \n",
    "                \n",
    "                plots(x, y, param, name, model, multiple)\n",
    "    plt.show()\n",
    "    plt.close()\n",
    "\n",
    "# Выбрать параметр для выгрузки\n",
    "param = 'vosaline'    # 'votemper' or 'vosaline'\n",
    "\n",
    "# Поочереди раскомментить нужное \n",
    "plotting(param, 'mod01', True, directory)    \n",
    "\"\"\"plotting(param, 'mod02', True)\n",
    "plotting(param, 'mod05', True)\n",
    "plotting(param, 'mod06_1', False)\n",
    "plotting(param, 'mod10__', True)\n",
    "plotting(param, 'mod10_1', False)\n",
    "plotting(param, 'mod11', False)\n",
    "plotting(param, 'mod12', True)\n",
    "plotting(param, 'mod13', False)\n",
    "plotting(param, 'mod17', True)\n",
    "plotting(param, 'mod18', True)\"\"\""
   ]
  },
  {
   "cell_type": "markdown",
   "metadata": {},
   "source": [
    "### Осредненные данные по каждой ПАБС без сдвига по пространству "
   ]
  },
  {
   "cell_type": "code",
   "execution_count": 46,
   "metadata": {},
   "outputs": [
    {
     "data": {
      "image/png": "[encoded data removed]",
      "text/plain": [
       "<Figure size 640x480 with 1 Axes>"
      ]
     },
     "metadata": {},
     "output_type": "display_data"
    }
   ],
   "source": [
    "directory_grouped = \"D:/ИТМО/Python/vosaline_votemper/data/grouped\"  \n",
    "\n",
    "def grouped_plotting(param, model, multiple): \n",
    "    for filename in os.listdir(directory_grouped):\n",
    "        if 'csv' in filename:\n",
    "            if model in filename:\n",
    "                path = f'{directory_grouped}/{filename}'\n",
    "                data = pd.read_csv(path, sep=',', decimal='.', encoding='latin-1', index_col=0)\n",
    "                df = pd.DataFrame(data)\n",
    "                name = path.split('/')[-1][:-4]\n",
    "                \n",
    "                # Plot for params \n",
    "                x = df['AvgWinter'].loc[df['Param'] == param]\n",
    "                y = df['Depth'].loc[df['Param'] == param] \n",
    "                \n",
    "                plots(x, y, param, name, model, multiple)\n",
    "\n",
    "\n",
    "# Выбрать параметр для выгрузки\n",
    "param = 'votemper'    # 'votemper' or 'vosaline'\n",
    "\n",
    "# Поменять название ниже на 01, 02, 05, 10__, 12\n",
    "grouped_plotting(param, 'grouped_mod01', False)        "
   ]
  }
 ],
 "metadata": {
  "kernelspec": {
   "display_name": "Python 3",
   "language": "python",
   "name": "python3"
  },
  "language_info": {
   "codemirror_mode": {
    "name": "ipython",
    "version": 3
   },
   "file_extension": ".py",
   "mimetype": "text/x-python",
   "name": "python",
   "nbconvert_exporter": "python",
   "pygments_lexer": "ipython3",
   "version": "3.11.1"
  },
  "orig_nbformat": 4,
  "vscode": {
   "interpreter": {
    "hash": "6491bbd3c7861498ceca5f810ff495ca48eaaad8857aa8ae48a42dff31e5d8e0"
   }
  }
 },
 "nbformat": 4,
 "nbformat_minor": 2
}
