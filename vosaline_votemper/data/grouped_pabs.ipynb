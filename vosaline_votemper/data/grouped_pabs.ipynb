{
 "cells": [
  {
   "cell_type": "code",
   "execution_count": 1,
   "metadata": {},
   "outputs": [],
   "source": [
    "import os\n",
    "import pandas as pd\n",
    "from datetime import datetime\n",
    "import numpy as np"
   ]
  },
  {
   "cell_type": "code",
   "execution_count": 2,
   "metadata": {},
   "outputs": [],
   "source": [
    "def to_correct_time(df):\n",
    "    tot_rows = df.shape[0]\n",
    "    for date_cell in range(0,tot_rows): \n",
    "        date_str = df.iloc[date_cell,0]\n",
    "        date_format = '%d.%m.%Y %H:%M'\n",
    "        date_obj = datetime.strptime(date_str, date_format)\n",
    "        df.iloc[date_cell,0] = date_obj"
   ]
  },
  {
   "cell_type": "code",
   "execution_count": 24,
   "metadata": {},
   "outputs": [],
   "source": [
    "mod = 'mod12'   # choose mod01, mod02, mod05, mod10__, mod12, mod17, mod18\n",
    "pabs = {}\n",
    "names = []\n",
    "\n",
    "directory = \"D:/ИТМО/Python/vosaline_votemper/data\"   \n",
    "for filename in os.listdir(directory):\n",
    "    if 'csv' in filename:\n",
    "        if mod in filename:\n",
    "            path = f'{directory}/{filename}'\n",
    "            name = path.split('/')[-1][:-4]\n",
    "            names.append(name)\n",
    "            data = pd.read_csv(path, sep=';', decimal='.', encoding='latin-1')\n",
    "            df = pd.DataFrame(data)\n",
    "            df = df.iloc[:, 1:]\n",
    "            df.columns = df.columns.str[:11]\n",
    "            to_correct_time(df)\n",
    "            df = df.rename(columns={'vosaline-3.': 'vosaline-03', 'votemper-3.': 'votemper-03'})\n",
    "\n",
    "            df['time'] = pd.to_datetime(df['time'], errors='coerce')\n",
    "            only_winter = df.loc[(df['time'].dt.month.isin([1,2,12]))] #%Y-%m-%d %H:%M:%S\n",
    "            only_winter = only_winter.drop('time', axis = 1)\n",
    "            only_winter['col'] = np.arange(only_winter.shape[0])\n",
    "            only_winter = only_winter.reset_index(drop=False)\n",
    "            only_winter = only_winter.drop('index', axis = 1)\n",
    "            pabs[name] = only_winter\n",
    "\n",
    "#Merging with other tables \n",
    "df_merge = pd.DataFrame(columns=['col'])\n",
    "\n",
    "for i in names:\n",
    "    df_merge = pd.concat([df_merge, pabs[i]], axis = 1)\n",
    "df_merge = df_merge.drop('col', axis = 1)\n",
    "df_merge = df_merge.groupby(by=df_merge.columns, axis=1).mean()\n",
    "\n",
    "# Mean for winter \n",
    "avg_winter = df_merge.mean(axis=0)\n",
    "\n",
    "# DataFrame for winter values \n",
    "df_new = pd.DataFrame(avg_winter)\n",
    "df_new['Index'] = df_new.index\n",
    "df_new.reset_index(drop=True, inplace=True)\n",
    "df_new.rename(columns={0: 'AvgWinter'}, inplace = True)\n",
    "df_new[\"Param\"] = df_new['Index'].str.split('-').str[0]\n",
    "df_new[\"Depth\"] = df_new['Index'].str.split('-').str[1].astype(float).round(2)\n",
    "df_new_cols = [\"Index\",\"Param\",\"Depth\",\"AvgWinter\"]\n",
    "df_new = df_new[df_new_cols]\n",
    "df_new.to_csv(f'D:/ИТМО/Python/vosaline_votemper/data/grouped/grouped_{mod}.csv')"
   ]
  }
 ],
 "metadata": {
  "kernelspec": {
   "display_name": "Python 3",
   "language": "python",
   "name": "python3"
  },
  "language_info": {
   "codemirror_mode": {
    "name": "ipython",
    "version": 3
   },
   "file_extension": ".py",
   "mimetype": "text/x-python",
   "name": "python",
   "nbconvert_exporter": "python",
   "pygments_lexer": "ipython3",
   "version": "3.11.1"
  },
  "orig_nbformat": 4
 },
 "nbformat": 4,
 "nbformat_minor": 2
}
